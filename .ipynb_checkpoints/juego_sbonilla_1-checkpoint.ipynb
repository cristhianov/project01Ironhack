{
 "cells": [
  {
   "cell_type": "markdown",
   "id": "6eff9970",
   "metadata": {},
   "source": [
    "# Proyecto1: Juego Truco"
   ]
  },
  {
   "cell_type": "code",
   "execution_count": 119,
   "id": "0b4f890e",
   "metadata": {},
   "outputs": [],
   "source": [
    "from statistics import median\n",
    "import math\n",
    "from random import choice\n",
    "import random\n",
    "\n",
    "cartas_truco={'1 de Espada':14,'1 de Basto':13,'7 de Espada':12,'7 de Oro':11,'3 de Espada':10,'3 de Oro':10,'3 de Copa':10,\n",
    "              '3 de Basto':10,' 2 de Espada':9,'2 de Oro':9,' 2 de Copa':9,' 2 de Basto':9,'1 de Copa':8,'1 de Oro':8,\n",
    "     '12 de Espada':7,'12 de Oro':7,'12 de Copa':7,'12 de Basto':7,'11 de Espada':6,'11 de Oro':6,'11 de Copa':6,\n",
    "              '11 de Basto':6,'10 de Espada':5,'10 de Oro':5,'10 de Copa':5,'10 de Basto':5,'7 de Copa':4,'7 de Oro':4,\n",
    "    '6 de Espada':3,'6 de Oro':3,'6 de Copa':3,'6 de Basto':3,'5 de Espada':2,'5 de Oro':2,'5 de Copa':2,'5 de Basto':2,\n",
    "              '4 de Espada':1,'4 de Oro':1,'4 de Copa':1,'4 de Basto':14}"
   ]
  },
  {
   "cell_type": "markdown",
   "id": "3bdb6f69",
   "metadata": {},
   "source": [
    "print(cartas_truco)"
   ]
  },
  {
   "cell_type": "code",
   "execution_count": 41,
   "id": "6832e4d8",
   "metadata": {},
   "outputs": [
    {
     "name": "stdout",
     "output_type": "stream",
     "text": [
      "TRUCO\n"
     ]
    }
   ],
   "source": [
    "print('TRUCO')"
   ]
  },
  {
   "cell_type": "code",
   "execution_count": 4,
   "id": "675502c4",
   "metadata": {},
   "outputs": [
    {
     "name": "stdout",
     "output_type": "stream",
     "text": [
      "Ingrese Nombre: sofia\n"
     ]
    }
   ],
   "source": [
    "nombre=input(\"Ingrese Nombre: \")"
   ]
  },
  {
   "cell_type": "code",
   "execution_count": 6,
   "id": "a548fbeb",
   "metadata": {},
   "outputs": [
    {
     "name": "stdout",
     "output_type": "stream",
     "text": [
      "SOFIA Empecemos!\n"
     ]
    }
   ],
   "source": [
    "print(nombre.upper(),\"Empecemos!\")"
   ]
  },
  {
   "cell_type": "markdown",
   "id": "8f0b698a",
   "metadata": {},
   "source": [
    "## SELECCIONAR EL NUMERO DE RONDAS"
   ]
  },
  {
   "cell_type": "code",
   "execution_count": 43,
   "id": "8cb56bdc",
   "metadata": {},
   "outputs": [
    {
     "name": "stdout",
     "output_type": "stream",
     "text": [
      "Ingrese la cantidad de rondas que quiere jugar, recuerde que las rondas deben ser numeros impares:5\n",
      "Vamos a jugar: 5 rondas\n"
     ]
    }
   ],
   "source": [
    "n_rounds = input(\"Ingrese la cantidad de rondas que quiere jugar, recuerde que las rondas deben ser numeros impares:\")\n",
    "\n",
    "n_rounds= int(n_rounds)\n",
    "\n",
    "if n_rounds%2 == 0:\n",
    "    \n",
    "    print(\"Introduce un numero impar por favor\")\n",
    "else:\n",
    "\tprint(\"Vamos a jugar:\", n_rounds, \"rondas\")\n",
    "    \n",
    "\t"
   ]
  },
  {
   "cell_type": "code",
   "execution_count": 124,
   "id": "5e60e425",
   "metadata": {},
   "outputs": [],
   "source": [
    "rounds_to_win = math.ceil(n_rounds/2)\n",
    "cpu_score = 0\n",
    "player_score = 0"
   ]
  },
  {
   "cell_type": "markdown",
   "id": "99729060",
   "metadata": {},
   "source": [
    "## REPARTIR CARTAS AL JUGADOR"
   ]
  },
  {
   "cell_type": "code",
   "execution_count": 77,
   "id": "65f5f013",
   "metadata": {},
   "outputs": [],
   "source": [
    "def Jugador(cartas_truco):\n",
    "    keys = random.sample(list(cartas_truco), 3)\n",
    "    return(keys)"
   ]
  },
  {
   "cell_type": "code",
   "execution_count": 81,
   "id": "c0a17055",
   "metadata": {},
   "outputs": [],
   "source": [
    "def Computadora(cartas_truco):\n",
    "    keys = random.sample(list(cartas_truco.items()), 3)\n",
    "    return(keys)"
   ]
  },
  {
   "cell_type": "code",
   "execution_count": 88,
   "id": "64d985e4",
   "metadata": {},
   "outputs": [
    {
     "name": "stdout",
     "output_type": "stream",
     "text": [
      "[('6 de Oro', 3), ('1 de Oro', 8), (' 2 de Espada', 9)]\n"
     ]
    }
   ],
   "source": [
    "keys_c = random.sample(list(cartas_truco.items()), 3)\n",
    "print(keys_c)\n"
   ]
  },
  {
   "cell_type": "code",
   "execution_count": 123,
   "id": "d7745364",
   "metadata": {},
   "outputs": [],
   "source": [
    "def Computadora_carta_1(cartas_truco):\n",
    "    a=[x[1] for x in keys_c]\n",
    "    return(max(a))\n"
   ]
  },
  {
   "cell_type": "code",
   "execution_count": 121,
   "id": "1a5b3465",
   "metadata": {},
   "outputs": [],
   "source": [
    "def Computadora_carta_2(cartas_truco):\n",
    "    a=[x[1] for x in keys_c]\n",
    "    return(median(a))\n"
   ]
  },
  {
   "cell_type": "code",
   "execution_count": 122,
   "id": "a4ed2afd",
   "metadata": {},
   "outputs": [],
   "source": [
    "def Computadora_carta_3(cartas_truco):\n",
    "    a=[x[1] for x in keys_c]\n",
    "    return(min(a))"
   ]
  },
  {
   "cell_type": "code",
   "execution_count": 131,
   "id": "f9e6c3f8",
   "metadata": {},
   "outputs": [
    {
     "name": "stdout",
     "output_type": "stream",
     "text": [
      "[3, 8, 9]\n"
     ]
    }
   ],
   "source": [
    "a=[x[1] for x in keys_c]\n",
    "print(sorted(a))"
   ]
  },
  {
   "cell_type": "code",
   "execution_count": 143,
   "id": "ffee3162",
   "metadata": {},
   "outputs": [
    {
     "name": "stdout",
     "output_type": "stream",
     "text": [
      "[('6 de Oro', 3), ('3 de Copa', 10), ('5 de Copa', 2)]\n"
     ]
    }
   ],
   "source": [
    "items_j = random.sample(list(cartas_truco.items()), 3)\n",
    "print(items_j)\n"
   ]
  },
  {
   "cell_type": "code",
   "execution_count": 158,
   "id": "bd9d02a2",
   "metadata": {},
   "outputs": [
    {
     "name": "stdout",
     "output_type": "stream",
     "text": [
      "['6 de Oro', '3 de Copa', '5 de Copa']\n"
     ]
    }
   ],
   "source": [
    "l = [w for w, v in items_j]\n",
    "print(l)\n"
   ]
  },
  {
   "cell_type": "code",
   "execution_count": 159,
   "id": "a107255c",
   "metadata": {},
   "outputs": [],
   "source": [
    "def jugador(cartas_truco):\n",
    "    j = 0\n",
    "    while j == 0:\n",
    "        j = input(\"Elige: \" + str(l) + \" >>>    \")\n",
    "        if j in gestures:\n",
    "            return j\n",
    "        else:\n",
    "            print(\"Introduzca un valor correcto\")\n",
    "            j = 0"
   ]
  },
  {
   "cell_type": "markdown",
   "id": "53e9d595",
   "metadata": {},
   "source": [
    "k=cartas_truco.keys()"
   ]
  },
  {
   "cell_type": "code",
   "execution_count": 40,
   "id": "327f81a1",
   "metadata": {},
   "outputs": [
    {
     "name": "stdout",
     "output_type": "stream",
     "text": [
      "dict_keys(['1 de Espada', '1 de Basto', '7 de Espada', '7 de Oro', '3 de Espada', '3 de Oro', '3 de Copa', '3 de Basto', ' 2 de Espada', '2 de Oro', ' 2 de Copa', ' 2 de Basto', '1 de Copa', '1 de Oro', '12 de Espada', '12 de Oro', '12 de Copa', '12 de Basto', '11 de Espada', '11 de Oro', '11 de Copa', '11 de Basto', '10 de Espada', '10 de Oro', '10 de Copa', '10 de Basto', '7 de Copa', '6 de Espada', '6 de Oro', '6 de Copa', '6 de Basto', '5 de Espada', '5 de Oro', '5 de Copa', '5 de Basto', '4 de Espada', '4 de Oro', '4 de Copa', '4 de Basto'])\n"
     ]
    }
   ],
   "source": [
    "print(k)"
   ]
  }
 ],
 "metadata": {
  "kernelspec": {
   "display_name": "Python 3 (ipykernel)",
   "language": "python",
   "name": "python3"
  },
  "language_info": {
   "codemirror_mode": {
    "name": "ipython",
    "version": 3
   },
   "file_extension": ".py",
   "mimetype": "text/x-python",
   "name": "python",
   "nbconvert_exporter": "python",
   "pygments_lexer": "ipython3",
   "version": "3.9.6"
  }
 },
 "nbformat": 4,
 "nbformat_minor": 5
}
